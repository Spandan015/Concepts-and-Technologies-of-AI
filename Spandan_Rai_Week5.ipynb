{
  "nbformat": 4,
  "nbformat_minor": 0,
  "metadata": {
    "colab": {
      "provenance": []
    },
    "kernelspec": {
      "name": "python3",
      "display_name": "Python 3"
    },
    "language_info": {
      "name": "python"
    }
  },
  "cells": [
    {
      "cell_type": "code",
      "execution_count": 3,
      "metadata": {
        "id": "FAgKsu-dyTsD"
      },
      "outputs": [],
      "source": [
        "import pandas as pd\n",
        "import numpy as np\n",
        "from google.colab import drive"
      ]
    },
    {
      "cell_type": "code",
      "source": [
        "#Load the dataset\n",
        "data = pd.read_csv('/content/drive/MyDrive/pandas/student.csv')"
      ],
      "metadata": {
        "id": "HTmiQpACyi0_"
      },
      "execution_count": 6,
      "outputs": []
    },
    {
      "cell_type": "code",
      "source": [
        "from google.colab import drive\n",
        "drive.mount('/content/drive')"
      ],
      "metadata": {
        "id": "T2UWnQ29maUu",
        "colab": {
          "base_uri": "https://localhost:8080/"
        },
        "outputId": "490c27ee-4017-4337-d6b4-ed345a56395d"
      },
      "execution_count": 15,
      "outputs": [
        {
          "output_type": "stream",
          "name": "stdout",
          "text": [
            "Drive already mounted at /content/drive; to attempt to forcibly remount, call drive.mount(\"/content/drive\", force_remount=True).\n"
          ]
        }
      ]
    },
    {
      "cell_type": "code",
      "source": [
        "print(\"Top 5 rows of the dataset:\")\n",
        "print(data.head())"
      ],
      "metadata": {
        "colab": {
          "base_uri": "https://localhost:8080/"
        },
        "id": "nQMu2AG5y-2O",
        "outputId": "69880396-3db4-493d-cc50-4dc08f2623cc"
      },
      "execution_count": 16,
      "outputs": [
        {
          "output_type": "stream",
          "name": "stdout",
          "text": [
            "Top 5 rows of the dataset:\n",
            "   Math  Reading  Writing\n",
            "0    48       68       63\n",
            "1    62       81       72\n",
            "2    79       80       78\n",
            "3    76       83       79\n",
            "4    59       64       62\n"
          ]
        }
      ]
    },
    {
      "cell_type": "code",
      "source": [
        "print(\"\\nBottom 5 rows of the dataset:\")\n",
        "print(data.tail())"
      ],
      "metadata": {
        "colab": {
          "base_uri": "https://localhost:8080/"
        },
        "id": "nTDWeyD0zE8W",
        "outputId": "133ee27c-ff8f-4647-dca1-7c8af3e2a4d7"
      },
      "execution_count": 17,
      "outputs": [
        {
          "output_type": "stream",
          "name": "stdout",
          "text": [
            "\n",
            "Bottom 5 rows of the dataset:\n",
            "     Math  Reading  Writing\n",
            "995    72       74       70\n",
            "996    73       86       90\n",
            "997    89       87       94\n",
            "998    83       82       78\n",
            "999    66       66       72\n"
          ]
        }
      ]
    },
    {
      "cell_type": "code",
      "source": [
        "print(\"\\nDataset Information:\")\n",
        "print(data.info())\n"
      ],
      "metadata": {
        "colab": {
          "base_uri": "https://localhost:8080/"
        },
        "id": "2P5MwsVAzMOB",
        "outputId": "f90300fd-170d-46f2-8940-bc829fcf9888"
      },
      "execution_count": 18,
      "outputs": [
        {
          "output_type": "stream",
          "name": "stdout",
          "text": [
            "\n",
            "Dataset Information:\n",
            "<class 'pandas.core.frame.DataFrame'>\n",
            "RangeIndex: 1000 entries, 0 to 999\n",
            "Data columns (total 3 columns):\n",
            " #   Column   Non-Null Count  Dtype\n",
            "---  ------   --------------  -----\n",
            " 0   Math     1000 non-null   int64\n",
            " 1   Reading  1000 non-null   int64\n",
            " 2   Writing  1000 non-null   int64\n",
            "dtypes: int64(3)\n",
            "memory usage: 23.6 KB\n",
            "None\n"
          ]
        }
      ]
    },
    {
      "cell_type": "code",
      "source": [
        "print(\"\\nDescriptive Statistics:\")\n",
        "print(data.describe())"
      ],
      "metadata": {
        "colab": {
          "base_uri": "https://localhost:8080/"
        },
        "id": "eM8x1zmvzOLj",
        "outputId": "aacd511d-8d66-4589-bba0-c8560a6314b9"
      },
      "execution_count": null,
      "outputs": [
        {
          "output_type": "stream",
          "name": "stdout",
          "text": [
            "\n",
            "Descriptive Statistics:\n",
            "          Student ID            Age         Height         Weight  \\\n",
            "count  180000.000000  180000.000000  180000.000000  180000.000000   \n",
            "mean    49974.042078      26.021561     174.947103      69.971585   \n",
            "std     28879.641657       4.890528      14.447560      17.322574   \n",
            "min         1.000000      18.000000     150.000041      40.000578   \n",
            "25%     24971.750000      22.000000     162.476110      54.969838   \n",
            "50%     49943.500000      26.000000     174.899914      69.979384   \n",
            "75%     74986.000000      30.000000     187.464417      84.980097   \n",
            "max    100000.000000      34.000000     199.998639      99.999907   \n",
            "\n",
            "                 BMI    Temperature     Heart Rate  Blood Pressure  \\\n",
            "count  180000.000000  180000.000000  180000.000000   180000.000000   \n",
            "mean       23.338869      98.600948      79.503767      114.558033   \n",
            "std         7.033554       0.500530      11.540755       14.403353   \n",
            "min        10.074837      96.397835      60.000000       90.000000   \n",
            "25%        17.858396      98.264750      70.000000      102.000000   \n",
            "50%        22.671401      98.599654      80.000000      115.000000   \n",
            "75%        27.997487      98.940543      90.000000      127.000000   \n",
            "max        44.355113     100.824857      99.000000      139.000000   \n",
            "\n",
            "         Cholesterol  \n",
            "count  180000.000000  \n",
            "mean      184.486361  \n",
            "std        37.559678  \n",
            "min       120.000000  \n",
            "25%       152.000000  \n",
            "50%       184.000000  \n",
            "75%       217.000000  \n",
            "max       249.000000  \n"
          ]
        }
      ]
    },
    {
      "cell_type": "code",
      "source": [
        "X = data[['Math', 'Reading']].values\n",
        "Y = data['Writing'].values\n",
        "\n",
        "# Print the feature and target shapes\n",
        "print(\"\\nFeature matrix (X) shape:\", X.shape)\n",
        "print(\"Target vector (Y) shape:\", Y.shape)"
      ],
      "metadata": {
        "colab": {
          "base_uri": "https://localhost:8080/"
        },
        "id": "mJWjD_-_zSCt",
        "outputId": "109320d2-485c-4399-9c0e-45254fcbb197"
      },
      "execution_count": 19,
      "outputs": [
        {
          "output_type": "stream",
          "name": "stdout",
          "text": [
            "\n",
            "Feature matrix (X) shape: (1000, 2)\n",
            "Target vector (Y) shape: (1000,)\n"
          ]
        }
      ]
    },
    {
      "cell_type": "code",
      "source": [
        "#Task 2: Build a cost Function\n",
        "def cost_function(X, Y, W):\n",
        "    \"\"\"\n",
        "    Calculates the Mean Squared Error.\n",
        "    \"\"\"\n",
        "    n = len(Y)\n",
        "    Y_pred = np.dot(X, W)\n",
        "    cost = (1 / (2 * n)) * np.sum((Y_pred - Y) ** 2)\n",
        "    return cost"
      ],
      "metadata": {
        "id": "LLsr7EMC0ihB"
      },
      "execution_count": 20,
      "outputs": []
    },
    {
      "cell_type": "code",
      "source": [
        "#Task 3: Gradient Descent\n",
        "def gradient_descent(X, Y, W, alpha, iterations):\n",
        "    \"\"\"\n",
        "    Performs gradient descent to optimize weights.\n",
        "    \"\"\"\n",
        "    n = len(Y)\n",
        "    cost_history = []\n",
        "\n",
        "    for i in range(iterations):\n",
        "        Y_pred = np.dot(X, W)\n",
        "        loss = Y_pred - Y\n",
        "        gradient = (1 / n) * np.dot(X.T, loss)\n",
        "        W -= alpha * gradient\n",
        "        cost = cost_function(X, Y, W)\n",
        "        cost_history.append(cost)\n",
        "\n",
        "    return W, cost_history\n"
      ],
      "metadata": {
        "id": "lD_77rc62H6d"
      },
      "execution_count": 14,
      "outputs": []
    },
    {
      "cell_type": "code",
      "source": [
        "#Task 4: Evaluate the Model\n",
        "def rmse(Y, Y_pred):\n",
        "    return np.sqrt(np.mean((Y_pred - Y) ** 2))\n",
        "\n",
        "def r2(Y, Y_pred):\n",
        "    ss_res = np.sum((Y - Y_pred) ** 2)\n",
        "    ss_tot = np.sum((Y - np.mean(Y)) ** 2)\n",
        "    return 1 - (ss_res / ss_tot)\n"
      ],
      "metadata": {
        "id": "FDC97TkJ2Nio"
      },
      "execution_count": 13,
      "outputs": []
    },
    {
      "cell_type": "code",
      "source": [
        "#Task 5: Integrate All Steps\n",
        "def main():\n",
        "    # Step 1: Load the dataset\n",
        "    data = pd.read_csv('/content/drive/MyDrive/pandas/student.csv')\n",
        "\n",
        "    # Step 2: Prepare features (X) and target (Y)\n",
        "    X = data[['Math', 'Reading']].values\n",
        "    Y = data['Writing'].values\n",
        "\n",
        "    # Step 3: Split data into training and test sets\n",
        "    from sklearn.model_selection import train_test_split\n",
        "    X_train, X_test, Y_train, Y_test = train_test_split(X, Y, test_size=0.2, random_state=42)\n",
        "\n",
        "    # Step 4: Initialize weights, learning rate, and iterations\n",
        "    W = np.zeros(X_train.shape[1])\n",
        "    alpha = 0.0001\n",
        "    iterations = 1000\n",
        "\n",
        "if __name__ == \"__main__\":\n",
        "    main()\n"
      ],
      "metadata": {
        "id": "QGR4HuGL2SOq"
      },
      "execution_count": 12,
      "outputs": []
    },
    {
      "cell_type": "markdown",
      "source": [],
      "metadata": {
        "id": "BLtQPY-A3VQK"
      }
    }
  ]
}