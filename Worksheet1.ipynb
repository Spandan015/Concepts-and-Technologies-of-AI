{
  "nbformat": 4,
  "nbformat_minor": 0,
  "metadata": {
    "colab": {
      "provenance": []
    },
    "kernelspec": {
      "name": "python3",
      "display_name": "Python 3"
    },
    "language_info": {
      "name": "python"
    }
  },
  "cells": [
    {
      "cell_type": "code",
      "source": [
        "import numpy as np"
      ],
      "metadata": {
        "id": "1Bt_OkIcvnYG"
      },
      "execution_count": 2,
      "outputs": []
    },
    {
      "cell_type": "markdown",
      "source": [
        "Problem - 1:\n",
        "\n",
        "Array Creation:\n",
        "\n",
        "Complete the following Tasks:\n",
        "\n",
        "1. Initialize an empty array with size 2X2.\n",
        "2. Initialize an all one array with size 4X2.\n",
        "3. Return a new array of given shape and type, filled with fill value.{Hint: np.full}\n",
        "4. Return a new array of zeros with same shape and type as a given array.{Hint: np.zeros like}\n",
        "5. Return a new array of ones with same shape and type as a given array.{Hint: np.ones like}\n",
        "6. For an existing list new_list = [1,2,3,4] convert to an numpy array.{Hint: np.array()}"
      ],
      "metadata": {
        "id": "EqNvajwVuw9I"
      }
    },
    {
      "cell_type": "markdown",
      "source": [
        "1."
      ],
      "metadata": {
        "id": "LekjDuelyfL1"
      }
    },
    {
      "cell_type": "code",
      "source": [
        "a = np.empty((2,2))\n",
        "print(a)"
      ],
      "metadata": {
        "colab": {
          "base_uri": "https://localhost:8080/"
        },
        "id": "vnAggcHvvhbt",
        "outputId": "1483ea16-83cf-4610-a138-84e9d854a7e1"
      },
      "execution_count": 19,
      "outputs": [
        {
          "output_type": "stream",
          "name": "stdout",
          "text": [
            "[[4.78561632e-310 0.00000000e+000]\n",
            " [4.78678401e-310 6.90731340e-310]]\n"
          ]
        }
      ]
    },
    {
      "cell_type": "markdown",
      "source": [
        "2."
      ],
      "metadata": {
        "id": "DAgge4pvyhip"
      }
    },
    {
      "cell_type": "code",
      "source": [
        "a = np.ones((4,2))\n",
        "a"
      ],
      "metadata": {
        "colab": {
          "base_uri": "https://localhost:8080/"
        },
        "id": "fXdwyWDEwHwO",
        "outputId": "72134cef-6215-48a4-e2f5-6d3d9e31829f"
      },
      "execution_count": 7,
      "outputs": [
        {
          "output_type": "execute_result",
          "data": {
            "text/plain": [
              "array([[1., 1.],\n",
              "       [1., 1.],\n",
              "       [1., 1.],\n",
              "       [1., 1.]])"
            ]
          },
          "metadata": {},
          "execution_count": 7
        }
      ]
    },
    {
      "cell_type": "markdown",
      "source": [
        "3."
      ],
      "metadata": {
        "id": "yLbZWbFIyjk1"
      }
    },
    {
      "cell_type": "code",
      "source": [
        "a = np.full((2,2),5)\n",
        "print(a)"
      ],
      "metadata": {
        "colab": {
          "base_uri": "https://localhost:8080/"
        },
        "id": "4hO7aauEwHey",
        "outputId": "2882b57f-38c2-44a7-c077-27df0d8eb00c"
      },
      "execution_count": 34,
      "outputs": [
        {
          "output_type": "stream",
          "name": "stdout",
          "text": [
            "[[5 5]\n",
            " [5 5]]\n"
          ]
        }
      ]
    },
    {
      "cell_type": "markdown",
      "source": [
        "4."
      ],
      "metadata": {
        "id": "hX8m0cZ-ylW4"
      }
    },
    {
      "cell_type": "code",
      "source": [
        "a = np.zeros_like(a)\n",
        "print(a)"
      ],
      "metadata": {
        "colab": {
          "base_uri": "https://localhost:8080/"
        },
        "id": "GRqPG0mJyBZp",
        "outputId": "3168acfc-8399-4189-b9bb-a08481838ec4"
      },
      "execution_count": 35,
      "outputs": [
        {
          "output_type": "stream",
          "name": "stdout",
          "text": [
            "[[0 0]\n",
            " [0 0]]\n"
          ]
        }
      ]
    },
    {
      "cell_type": "markdown",
      "source": [
        "5."
      ],
      "metadata": {
        "id": "FXVp5vxDymzn"
      }
    },
    {
      "cell_type": "code",
      "source": [
        "a = np.ones_like(a)\n",
        "a"
      ],
      "metadata": {
        "colab": {
          "base_uri": "https://localhost:8080/"
        },
        "id": "F6c0nYTQyIZi",
        "outputId": "35074ecd-7ef0-48bf-97aa-8114bd3e10fe"
      },
      "execution_count": 10,
      "outputs": [
        {
          "output_type": "execute_result",
          "data": {
            "text/plain": [
              "array([[1, 1],\n",
              "       [1, 1]])"
            ]
          },
          "metadata": {},
          "execution_count": 10
        }
      ]
    },
    {
      "cell_type": "markdown",
      "source": [
        "6."
      ],
      "metadata": {
        "id": "A8HyJgW1yn8z"
      }
    },
    {
      "cell_type": "code",
      "source": [
        "a = [1,2,3,4]\n",
        "a = np.array(a)\n",
        "a"
      ],
      "metadata": {
        "colab": {
          "base_uri": "https://localhost:8080/"
        },
        "id": "IkRxedYnyR2_",
        "outputId": "3cdccbd9-1903-4f71-9d72-bd1ce1b53c12"
      },
      "execution_count": 11,
      "outputs": [
        {
          "output_type": "execute_result",
          "data": {
            "text/plain": [
              "array([1, 2, 3, 4])"
            ]
          },
          "metadata": {},
          "execution_count": 11
        }
      ]
    },
    {
      "cell_type": "markdown",
      "source": [
        "Problem - 2:\n",
        "\n",
        "Array Manipulation: Numerical Ranges and Array indexing:\n",
        "\n",
        "Complete the following tasks:\n",
        "\n",
        "1. Create an array with values ranging from 10 to 49. {Hint:np.arrange()}.\n",
        "2. Create a 3X3 matrix with values ranging from 0 to 8.\n",
        "{Hint:look for np.reshape()}\n",
        "3. Create a 3X3 identity matrix.{Hint:np.eye()}\n",
        "4. Create a random array of size 30 and find the mean of the array.\n",
        "{Hint:check for np.random.random() and array.mean() function}\n",
        "5. Create a 10X10 array with random values and find the minimum and maximum values.\n",
        "6. Create a zero array of size 10 and replace 5th element with 1.\n",
        "7. Reverse an array arr = [1,2,0,0,4,0].\n",
        "8. Create a 2d array with 1 on border and 0 inside.\n",
        "9. Create a 8X8 matrix and fill it with a checkerboard pattern."
      ],
      "metadata": {
        "id": "xDFnvdzCu34z"
      }
    },
    {
      "cell_type": "markdown",
      "source": [
        "1."
      ],
      "metadata": {
        "id": "Vn7aJL_oyyic"
      }
    },
    {
      "cell_type": "code",
      "source": [
        "a = np.arange(10,50)\n",
        "print(a)"
      ],
      "metadata": {
        "colab": {
          "base_uri": "https://localhost:8080/"
        },
        "id": "KbyotCcivD6l",
        "outputId": "be67ab23-778a-4f7f-af31-33cba108567a"
      },
      "execution_count": 10,
      "outputs": [
        {
          "output_type": "stream",
          "name": "stdout",
          "text": [
            "[10 11 12 13 14 15 16 17 18 19 20 21 22 23 24 25 26 27 28 29 30 31 32 33\n",
            " 34 35 36 37 38 39 40 41 42 43 44 45 46 47 48 49]\n"
          ]
        }
      ]
    },
    {
      "cell_type": "markdown",
      "source": [
        "2."
      ],
      "metadata": {
        "id": "l0mVbPbzy5RX"
      }
    },
    {
      "cell_type": "code",
      "source": [
        "a = np.arange(0,9).reshape(3,3)\n",
        "print(a)"
      ],
      "metadata": {
        "colab": {
          "base_uri": "https://localhost:8080/"
        },
        "id": "PcXsoyKHy626",
        "outputId": "6772ff0a-26c7-435e-dd45-21174faac233"
      },
      "execution_count": 14,
      "outputs": [
        {
          "output_type": "stream",
          "name": "stdout",
          "text": [
            "[[0 1 2]\n",
            " [3 4 5]\n",
            " [6 7 8]]\n"
          ]
        }
      ]
    },
    {
      "cell_type": "markdown",
      "source": [
        "3."
      ],
      "metadata": {
        "id": "Z9xGtZu41-Rc"
      }
    },
    {
      "cell_type": "code",
      "source": [
        "a = np.eye(3)\n",
        "print(a)"
      ],
      "metadata": {
        "colab": {
          "base_uri": "https://localhost:8080/"
        },
        "id": "qzjGbS3C1_ez",
        "outputId": "601b15d1-b333-4beb-c6f7-0279fe95f17b"
      },
      "execution_count": 13,
      "outputs": [
        {
          "output_type": "stream",
          "name": "stdout",
          "text": [
            "[[1. 0. 0.]\n",
            " [0. 1. 0.]\n",
            " [0. 0. 1.]]\n"
          ]
        }
      ]
    },
    {
      "cell_type": "markdown",
      "source": [
        "4."
      ],
      "metadata": {
        "id": "LS-x-n1z2IYU"
      }
    },
    {
      "cell_type": "code",
      "source": [
        "a = np.random.random(30)\n",
        "a.mean()"
      ],
      "metadata": {
        "colab": {
          "base_uri": "https://localhost:8080/"
        },
        "id": "hlRKP09I2Jst",
        "outputId": "7e0fc96a-8ef3-4729-f423-ce68d413d03d"
      },
      "execution_count": 16,
      "outputs": [
        {
          "output_type": "execute_result",
          "data": {
            "text/plain": [
              "0.531549429715963"
            ]
          },
          "metadata": {},
          "execution_count": 16
        }
      ]
    },
    {
      "cell_type": "markdown",
      "source": [
        "5."
      ],
      "metadata": {
        "id": "GpaczFf32nBB"
      }
    },
    {
      "cell_type": "code",
      "source": [
        "a = np.random.random((10, 10))\n",
        "min_value = a.min()\n",
        "max_value = a.max()\n",
        "print(\"min value:\", min_value)\n",
        "print(\"max value:\", max_value)"
      ],
      "metadata": {
        "colab": {
          "base_uri": "https://localhost:8080/"
        },
        "id": "wnec1Vx82nwI",
        "outputId": "2389200d-fcaf-4512-ab1f-96cc7b81ea82"
      },
      "execution_count": 21,
      "outputs": [
        {
          "output_type": "stream",
          "name": "stdout",
          "text": [
            "min value: 0.016313422905266384\n",
            "max value: 0.9895718554144559\n"
          ]
        }
      ]
    },
    {
      "cell_type": "markdown",
      "source": [
        "6."
      ],
      "metadata": {
        "id": "tPqCFBi70w6i"
      }
    },
    {
      "cell_type": "code",
      "source": [
        "a = np.zeros(10)\n",
        "a[4] = 1\n",
        "print(a)"
      ],
      "metadata": {
        "colab": {
          "base_uri": "https://localhost:8080/"
        },
        "id": "_BNjUGw00yuZ",
        "outputId": "784349d9-1ca2-46a8-ebe8-7c8de0620085"
      },
      "execution_count": 15,
      "outputs": [
        {
          "output_type": "stream",
          "name": "stdout",
          "text": [
            "[0. 0. 0. 0. 1. 0. 0. 0. 0. 0.]\n"
          ]
        }
      ]
    },
    {
      "cell_type": "markdown",
      "source": [
        "7."
      ],
      "metadata": {
        "id": "lvjNJAkG1M8B"
      }
    },
    {
      "cell_type": "code",
      "source": [
        "a = np.array([1,2,0,0,4,0])\n",
        "a = a[::-1]\n",
        "print(a)"
      ],
      "metadata": {
        "colab": {
          "base_uri": "https://localhost:8080/"
        },
        "id": "K67alkj51OEq",
        "outputId": "2e6a3b5b-3019-4a7a-a34f-612e81306496"
      },
      "execution_count": 16,
      "outputs": [
        {
          "output_type": "stream",
          "name": "stdout",
          "text": [
            "[0 4 0 0 2 1]\n"
          ]
        }
      ]
    },
    {
      "cell_type": "markdown",
      "source": [
        "8."
      ],
      "metadata": {
        "id": "2AgW3PoA1Tj9"
      }
    },
    {
      "cell_type": "code",
      "source": [
        "a = np.ones((5,5))\n",
        "a[1:-1,1:-1] = 0\n",
        "print(a)"
      ],
      "metadata": {
        "colab": {
          "base_uri": "https://localhost:8080/"
        },
        "id": "KwBKka111UuL",
        "outputId": "f615369f-8a86-4752-b166-915660f3f829"
      },
      "execution_count": 17,
      "outputs": [
        {
          "output_type": "stream",
          "name": "stdout",
          "text": [
            "[[1. 1. 1. 1. 1.]\n",
            " [1. 0. 0. 0. 1.]\n",
            " [1. 0. 0. 0. 1.]\n",
            " [1. 0. 0. 0. 1.]\n",
            " [1. 1. 1. 1. 1.]]\n"
          ]
        }
      ]
    },
    {
      "cell_type": "markdown",
      "source": [
        "9."
      ],
      "metadata": {
        "id": "rQ6rYoWH1ZWi"
      }
    },
    {
      "cell_type": "code",
      "source": [
        "a = np.zeros((8,8))\n",
        "a[1::2,::2] = 1\n",
        "a[::2,1::2] = 1\n",
        "print(a)"
      ],
      "metadata": {
        "colab": {
          "base_uri": "https://localhost:8080/"
        },
        "id": "xCl5uiad1aWl",
        "outputId": "5699af9f-ac1f-4443-da0d-1dbb1a06c51f"
      },
      "execution_count": 18,
      "outputs": [
        {
          "output_type": "stream",
          "name": "stdout",
          "text": [
            "[[0. 1. 0. 1. 0. 1. 0. 1.]\n",
            " [1. 0. 1. 0. 1. 0. 1. 0.]\n",
            " [0. 1. 0. 1. 0. 1. 0. 1.]\n",
            " [1. 0. 1. 0. 1. 0. 1. 0.]\n",
            " [0. 1. 0. 1. 0. 1. 0. 1.]\n",
            " [1. 0. 1. 0. 1. 0. 1. 0.]\n",
            " [0. 1. 0. 1. 0. 1. 0. 1.]\n",
            " [1. 0. 1. 0. 1. 0. 1. 0.]]\n"
          ]
        }
      ]
    },
    {
      "cell_type": "markdown",
      "source": [
        "Problem - 3:\n",
        "\n",
        "Array Operations:\n",
        "\n",
        "For the following arrays:\n",
        "\n",
        "x = np.array([[1,2],[3,5]]) and y = np.array([[5,6],[7,8]]);\n",
        "v = np.array([9,10]) and w = np.array([11,12]);\n",
        "\n",
        "Complete all the task using numpy:\n",
        "1. Add the two array.\n",
        "2. Subtract the two array.\n",
        "3. Multiply the array with any integers of your choice.\n",
        "4. Find the square of each element of the array.\n",
        "5. Find the dot product between: v(and)w ; x(and)v ; x(and)y.\n",
        "6. Concatenate x(and)y along row and Concatenate v(and)w along column.\n",
        "{Hint:try np.concatenate() or np.vstack() functions.\n",
        "7. Concatenate x(and)v; if you get an error, observe and explain why did you get the error?"
      ],
      "metadata": {
        "id": "vFh5JWFvvEST"
      }
    },
    {
      "cell_type": "code",
      "source": [
        "import numpy as np\n",
        "\n",
        "# Arrays\n",
        "a = np.array([[1, 2], [3, 5]])\n",
        "b = np.array([[5, 6], [7, 8]])\n",
        "c = np.array([9, 10])\n",
        "d = np.array([11, 12])\n",
        "\n",
        "#1.\n",
        "\n",
        "a = a + b\n",
        "print(a)\n",
        "\n",
        "\n",
        "\n",
        "\n",
        "#2.\n",
        "\n",
        "a = a - b\n",
        "print(a)\n",
        "\n",
        "\n",
        "\n",
        "#3.\n",
        "\n",
        "a = a * 2\n",
        "print(a)\n",
        "\n",
        "\n",
        "\n",
        "#4.\n",
        "\n",
        "a = np.square(a)\n",
        "print(a)\n",
        "\n",
        "\n",
        "\n",
        "\n",
        "#5.\n",
        "\n",
        "#Dot product of c (v) and d (w)\n",
        "a = np.dot(c, d)\n",
        "print(a)\n",
        "\n",
        "#Dot product of a (x) and c (v)\n",
        "a = np.dot(a, c)\n",
        "print(a)\n",
        "\n",
        "#Dot product of a (x) and b (y)\n",
        "a = np.dot(a, b)\n",
        "print(a)\n",
        "\n",
        "\n",
        "\n",
        "#6\n",
        "a = np.vstack((c, d))\n",
        "\n",
        "\n",
        "#7.\n",
        "try:\n",
        "    a = np.concatenate((a, c), axis=0)\n",
        "    print(\"\\nConcatenation of a (x) and c (v):\\n\", a)\n",
        "except ValueError as e:\n",
        "    print(\"\\nError during concatenation of a (x) and c (v):\")\n",
        "    print(e)\n",
        "    print(\"Explanation: `a` (x) is a 2D array (2x2), but `c` (v) is a 1D array (1x2). Their dimensions do not align for concatenation.\")\n"
      ],
      "metadata": {
        "colab": {
          "base_uri": "https://localhost:8080/"
        },
        "id": "FuvJIPoX2oqE",
        "outputId": "dccac648-dfd8-44d8-b20f-7382658c61fb"
      },
      "execution_count": 32,
      "outputs": [
        {
          "output_type": "stream",
          "name": "stdout",
          "text": [
            "[[ 6  8]\n",
            " [10 13]]\n",
            "[[1 2]\n",
            " [3 5]]\n",
            "[[ 2  4]\n",
            " [ 6 10]]\n",
            "[[  4  16]\n",
            " [ 36 100]]\n",
            "219\n",
            "[1971 2190]\n",
            "[25185 29346]\n",
            "\n",
            "Error during concatenation of a (x) and c (v):\n",
            "all the input arrays must have same number of dimensions, but the array at index 0 has 2 dimension(s) and the array at index 1 has 1 dimension(s)\n",
            "Explanation: `a` (x) is a 2D array (2x2), but `c` (v) is a 1D array (1x2). Their dimensions do not align for concatenation.\n"
          ]
        }
      ]
    },
    {
      "cell_type": "markdown",
      "source": [
        "Problem - 4:\n",
        "\n",
        "Matrix Operations:\n",
        "\n",
        "• For the following arrays:\n",
        "A = np.array([[3,4],[7,8]]) and B = np.array([[5,3],[2,1]]);\n",
        "Prove following with Numpy:\n",
        "1. Prove A.A−1 = I.\n",
        "2. Prove AB ̸= BA.\n",
        "3. Prove (AB)\n",
        "\n",
        "T = BTAT\n",
        ".\n",
        "\n",
        "• Solve the following system of Linear equation using Inverse Methods.\n",
        "\n",
        "2x − 3y + z = −1\n",
        "x − y + 2z = −3\n",
        "3x + y − z = 9\n",
        "\n",
        "{Hint: First use Numpy array to represent the equation in Matrix form. Then Solve for: AX = B}\n",
        "• Now: solve the above equation using np.linalg.inv function.{Explore more about ”linalg” function\n",
        "of Numpy}"
      ],
      "metadata": {
        "id": "42d3bZ7WvWvA"
      }
    },
    {
      "cell_type": "code",
      "source": [
        "import numpy as np\n",
        "\n",
        "# Given arrays (matrices A and B)\n",
        "a = np.array([[3, 4], [7, 8]])\n",
        "b = np.array([[5, 3], [2, 1]])\n",
        "\n",
        "# 1. Prove a * a^-1 = I\n",
        "a_inv = np.linalg.inv(a)\n",
        "i = np.dot(a, a_inv)\n",
        "print(\"a * a^-1 = I (Identity Matrix):\\n\", i)\n",
        "\n",
        "# 2. Prove a * b != b * a\n",
        "ab = np.dot(a, b)\n",
        "ba = np.dot(b, a)\n",
        "print(\"\\na * b (a * b):\\n\", ab)\n",
        "print(\"\\nb * a (b * a):\\n\", ba)\n",
        "print(\"\\na * b == b * a? \", np.array_equal(ab, ba))\n",
        "\n",
        "# 3. Prove (a * b)^T = b^T * a^T\n",
        "ab_T = np.transpose(ab)\n",
        "b_T_a_T = np.dot(np.transpose(b), np.transpose(a))\n",
        "print(\"\\n(a * b)^T:\\n\", ab_T)\n",
        "print(\"\\nb^T * a^T:\\n\", b_T_a_T)\n",
        "print(\"\\n(a * b)^T == b^T * a^T? \", np.array_equal(ab_T, b_T_a_T))\n",
        "\n",
        "# 4. Solve the system of linear equations using Inverse Method (aX = b)\n",
        "# Coefficients matrix a\n",
        "a_matrix = np.array([[2, -3, 1],\n",
        "                     [1, -1, 2],\n",
        "                     [3, 1, -1]])\n",
        "\n",
        "# Right-hand side matrix b\n",
        "b_matrix = np.array([-1, -3, 9])\n",
        "\n",
        "# Solve for X using the inverse method: X = a_inv * b\n",
        "a_inv_matrix = np.linalg.inv(a_matrix)  # Inverse of a_matrix\n",
        "x = np.dot(a_inv_matrix, b_matrix)  # Solve for X\n",
        "print(\"\\nSolution to the system of equations (X):\\n\", x)\n"
      ],
      "metadata": {
        "colab": {
          "base_uri": "https://localhost:8080/"
        },
        "id": "Z6hMRR5H8M54",
        "outputId": "a310644c-d85c-42dc-e90e-f0fb1019f0f2"
      },
      "execution_count": 33,
      "outputs": [
        {
          "output_type": "stream",
          "name": "stdout",
          "text": [
            "a * a^-1 = I (Identity Matrix):\n",
            " [[1.00000000e+00 0.00000000e+00]\n",
            " [1.77635684e-15 1.00000000e+00]]\n",
            "\n",
            "a * b (a * b):\n",
            " [[23 13]\n",
            " [51 29]]\n",
            "\n",
            "b * a (b * a):\n",
            " [[36 44]\n",
            " [13 16]]\n",
            "\n",
            "a * b == b * a?  False\n",
            "\n",
            "(a * b)^T:\n",
            " [[23 51]\n",
            " [13 29]]\n",
            "\n",
            "b^T * a^T:\n",
            " [[23 51]\n",
            " [13 29]]\n",
            "\n",
            "(a * b)^T == b^T * a^T?  True\n",
            "\n",
            "Solution to the system of equations (X):\n",
            " [ 2.  1. -2.]\n"
          ]
        }
      ]
    }
  ]
}