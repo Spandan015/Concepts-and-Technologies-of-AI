{
  "cells": [
    {
      "cell_type": "code",
      "execution_count": 1,
      "metadata": {
        "colab": {
          "base_uri": "https://localhost:8080/"
        },
        "id": "FfDmBsDIdwe2",
        "outputId": "2994c117-a8a2-4574-c79e-efc3d6e81c37"
      },
      "outputs": [
        {
          "output_type": "stream",
          "name": "stdout",
          "text": [
            "Logistic Regression Classification Report:\n",
            "              precision    recall  f1-score   support\n",
            "\n",
            "           1       0.00      0.00      0.00         6\n",
            "           2       0.68      0.73      0.70        96\n",
            "           3       0.63      0.64      0.63        99\n",
            "           4       0.52      0.50      0.51        26\n",
            "           5       1.00      0.00      0.00         2\n",
            "\n",
            "    accuracy                           0.64       229\n",
            "   macro avg       0.57      0.37      0.37       229\n",
            "weighted avg       0.63      0.64      0.63       229\n",
            "\n",
            "Random Forest Classification Report:\n",
            "              precision    recall  f1-score   support\n",
            "\n",
            "           1       1.00      0.00      0.00         6\n",
            "           2       0.73      0.75      0.74        96\n",
            "           3       0.64      0.71      0.67        99\n",
            "           4       0.76      0.62      0.68        26\n",
            "           5       1.00      0.00      0.00         2\n",
            "\n",
            "    accuracy                           0.69       229\n",
            "   macro avg       0.83      0.41      0.42       229\n",
            "weighted avg       0.70      0.69      0.68       229\n",
            "\n",
            "Best Performing Model: RandomForestClassifier\n",
            "Best Hyperparameters for Random Forest: {'max_depth': 20, 'min_samples_split': 2, 'n_estimators': 100}\n",
            "Top Selected Features: ['alcohol', 'sulphates', 'volatile acidity', 'total sulfur dioxide', 'Id']\n",
            "Final Model Performance:\n",
            "              precision    recall  f1-score   support\n",
            "\n",
            "           1       0.00      0.00      0.00         6\n",
            "           2       0.59      0.68      0.63        96\n",
            "           3       0.53      0.46      0.49        99\n",
            "           4       0.53      0.62      0.57        26\n",
            "           5       1.00      0.00      0.00         2\n",
            "\n",
            "    accuracy                           0.55       229\n",
            "   macro avg       0.53      0.35      0.34       229\n",
            "weighted avg       0.55      0.55      0.54       229\n",
            "\n"
          ]
        }
      ],
      "source": [
        "import pandas as pd\n",
        "import numpy as np\n",
        "from sklearn.model_selection import train_test_split, GridSearchCV\n",
        "from sklearn.preprocessing import StandardScaler, LabelEncoder\n",
        "from sklearn.linear_model import LogisticRegression\n",
        "from sklearn.ensemble import RandomForestClassifier\n",
        "from sklearn.metrics import classification_report\n",
        "\n",
        "# Load dataset\n",
        "wine_data = pd.read_csv('/content/drive/MyDrive/Concept and Technologies of AI/WineQT.csv')\n",
        "\n",
        "# Encode target variable\n",
        "wine_data['quality'] = LabelEncoder().fit_transform(wine_data['quality'])\n",
        "\n",
        "# Split data into training and testing sets\n",
        "X_wine = wine_data.drop('quality', axis=1)\n",
        "y_wine = wine_data['quality']\n",
        "X_train_wine, X_test_wine, y_train_wine, y_test_wine = train_test_split(X_wine, y_wine, test_size=0.2, random_state=42)\n",
        "\n",
        "# Standardize data\n",
        "scaler = StandardScaler()\n",
        "X_train_wine = scaler.fit_transform(X_train_wine)\n",
        "X_test_wine = scaler.transform(X_test_wine)\n",
        "\n",
        "# Build Two Models for Classification\n",
        "# Model 1: Logistic Regression\n",
        "log_reg = LogisticRegression(max_iter=1000)\n",
        "log_reg.fit(X_train_wine, y_train_wine)\n",
        "y_pred_log = log_reg.predict(X_test_wine)\n",
        "print(\"Logistic Regression Classification Report:\")\n",
        "print(classification_report(y_test_wine, y_pred_log, zero_division=1))\n",
        "\n",
        "# Model 2: Random Forest Classifier\n",
        "rf_clf = RandomForestClassifier(random_state=42)\n",
        "rf_clf.fit(X_train_wine, y_train_wine)\n",
        "y_pred_rf = rf_clf.predict(X_test_wine)\n",
        "print(\"Random Forest Classification Report:\")\n",
        "print(classification_report(y_test_wine, y_pred_rf, zero_division=1))\n",
        "\n",
        "# Determine Best Model\n",
        "best_model = rf_clf if rf_clf.score(X_test_wine, y_test_wine) > log_reg.score(X_test_wine, y_test_wine) else log_reg\n",
        "print(\"Best Performing Model:\", type(best_model).__name__)\n",
        "\n",
        "# Perform Hyperparameter Optimization\n",
        "if isinstance(best_model, RandomForestClassifier):\n",
        "    param_grid_rf = {\n",
        "        'n_estimators': [100, 200, 300],\n",
        "        'max_depth': [None, 10, 20, 30],\n",
        "        'min_samples_split': [2, 5, 10]\n",
        "    }\n",
        "    grid_rf = GridSearchCV(best_model, param_grid_rf, cv=5, scoring='accuracy')\n",
        "    grid_rf.fit(X_train_wine, y_train_wine)\n",
        "    best_model = grid_rf.best_estimator_\n",
        "    print(\"Best Hyperparameters for Random Forest:\", grid_rf.best_params_)\n",
        "\n",
        "# Feature Selection (Important Features)\n",
        "feature_importances = pd.DataFrame({'Feature': X_wine.columns, 'Importance': best_model.feature_importances_})\n",
        "selected_features = feature_importances.sort_values(by='Importance', ascending=False).head(5)['Feature'].tolist()\n",
        "print(\"Top Selected Features:\", selected_features)\n",
        "\n",
        "# Rebuild Model with Best Hyperparameters and Best Features\n",
        "X_train_selected = X_train_wine[:, :5]\n",
        "X_test_selected = X_test_wine[:, :5]\n",
        "best_model.fit(X_train_selected, y_train_wine)\n",
        "y_pred_final = best_model.predict(X_test_selected)\n",
        "print(\"Final Model Performance:\")\n",
        "print(classification_report(y_test_wine, y_pred_final, zero_division=1))"
      ]
    },
    {
      "cell_type": "code",
      "execution_count": 4,
      "metadata": {
        "colab": {
          "base_uri": "https://localhost:8080/"
        },
        "id": "SBtcLYLL1Ykf",
        "outputId": "c09ae264-dce3-48e8-a1ab-c562333d9183"
      },
      "outputs": [
        {
          "output_type": "stream",
          "name": "stdout",
          "text": [
            "Drive already mounted at /content/drive; to attempt to forcibly remount, call drive.mount(\"/content/drive\", force_remount=True).\n"
          ]
        }
      ],
      "source": [
        "from google.colab import drive\n",
        "drive.mount('/content/drive')"
      ]
    }
  ],
  "metadata": {
    "colab": {
      "provenance": []
    },
    "kernelspec": {
      "display_name": "Python 3",
      "name": "python3"
    },
    "language_info": {
      "name": "python"
    }
  },
  "nbformat": 4,
  "nbformat_minor": 0
}