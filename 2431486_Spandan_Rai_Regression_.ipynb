{
  "cells": [
    {
      "cell_type": "code",
      "execution_count": 1,
      "metadata": {
        "colab": {
          "base_uri": "https://localhost:8080/",
          "height": 1000
        },
        "id": "Rh7IaWVvaRfB",
        "outputId": "ba0e62d9-e025-4c86-8349-1a5bcea9f7f7"
      },
      "outputs": [
        {
          "output_type": "stream",
          "name": "stdout",
          "text": [
            "Dataset Info:\n",
            "<class 'pandas.core.frame.DataFrame'>\n",
            "RangeIndex: 4009 entries, 0 to 4008\n",
            "Data columns (total 12 columns):\n",
            " #   Column        Non-Null Count  Dtype \n",
            "---  ------        --------------  ----- \n",
            " 0   brand         4009 non-null   object\n",
            " 1   model         4009 non-null   object\n",
            " 2   model_year    4009 non-null   int64 \n",
            " 3   milage        4009 non-null   object\n",
            " 4   fuel_type     3839 non-null   object\n",
            " 5   engine        4009 non-null   object\n",
            " 6   transmission  4009 non-null   object\n",
            " 7   ext_col       4009 non-null   object\n",
            " 8   int_col       4009 non-null   object\n",
            " 9   accident      3896 non-null   object\n",
            " 10  clean_title   3413 non-null   object\n",
            " 11  price         4009 non-null   object\n",
            "dtypes: int64(1), object(11)\n",
            "memory usage: 376.0+ KB\n",
            "None\n",
            "\n",
            "Dataset Description:\n",
            "        model_year\n",
            "count  4009.000000\n",
            "mean   2015.515590\n",
            "std       6.104816\n",
            "min    1974.000000\n",
            "25%    2012.000000\n",
            "50%    2017.000000\n",
            "75%    2020.000000\n",
            "max    2024.000000\n"
          ]
        },
        {
          "output_type": "display_data",
          "data": {
            "text/plain": [
              "<Figure size 250x250 with 2 Axes>"
            ],
            "image/png": "[encoded data removed]"
          },
          "metadata": {}
        },
        {
          "output_type": "stream",
          "name": "stdout",
          "text": [
            "Linear Regression (Scikit-learn) - MSE: 14101050931.496511, R2 Score: 0.03706277036549854\n",
            "Ridge Regression - MSE: 13852563138.015165, R2 Score: 0.05403158698883681\n",
            "Lasso Regression - MSE: 13853951301.027388, R2 Score: 0.0539367916539526\n",
            "Linear Regression (Scratch) - MSE: 14093282689.157993, R2 Score: 0.037593250667493194\n",
            "\n",
            "Best Model: Ridge Regression\n",
            "Best Hyperparameter: {'alpha': 0.1}\n",
            "\n",
            "Selected Features (Indices): [   0    1    2 ... 4375 4376 4383]\n",
            "\n",
            "Final Model - MSE: 13718234886.647682, R2 Score: 0.06320463904444873\n"
          ]
        }
      ],
      "source": [
        "import pandas as pd\n",
        "import numpy as np\n",
        "import matplotlib.pyplot as plt\n",
        "import seaborn as sns\n",
        "from sklearn.model_selection import train_test_split, GridSearchCV\n",
        "from sklearn.linear_model import LinearRegression, Ridge, Lasso\n",
        "from sklearn.metrics import mean_squared_error, r2_score\n",
        "from sklearn.preprocessing import StandardScaler, OneHotEncoder\n",
        "from sklearn.compose import ColumnTransformer\n",
        "from sklearn.feature_selection import SelectFromModel\n",
        "\n",
        "# Load Dataset\n",
        "df = pd.read_csv(\"/content/drive/MyDrive/Concept and Technologies of AI/used_cars.csv\")\n",
        "\n",
        "# Exploratory Data Analysis (EDA)\n",
        "print(\"Dataset Info:\")\n",
        "print(df.info())\n",
        "print(\"\\nDataset Description:\")\n",
        "print(df.describe())\n",
        "sns.pairplot(df)\n",
        "plt.show()\n",
        "\n",
        "# Data Preprocessing\n",
        "# Handling missing values (if any)\n",
        "df = df.dropna()\n",
        "\n",
        "# Convert 'price' column to numeric after removing '$' and ','\n",
        "df.loc[:, 'price'] = df['price'].replace({'\\$': '', ',': ''}, regex=True).astype(float)\n",
        "\n",
        "# Selecting Features and Target\n",
        "X = df.drop(columns=['price'])  # Assuming 'price' is the target variable\n",
        "y = df['price']\n",
        "\n",
        "# Identify categorical and numerical columns\n",
        "categorical_features = X.select_dtypes(include=['object']).columns\n",
        "numerical_features = X.select_dtypes(include=['int64', 'float64']).columns\n",
        "\n",
        "# Apply OneHotEncoding to categorical variables and StandardScaler to numerical features\n",
        "preprocessor = ColumnTransformer([\n",
        "    ('num', StandardScaler(), numerical_features),\n",
        "    ('cat', OneHotEncoder(handle_unknown='ignore'), categorical_features)\n",
        "])\n",
        "\n",
        "# Splitting Data\n",
        "X_train, X_test, y_train, y_test = train_test_split(X, y, test_size=0.2, random_state=42)\n",
        "\n",
        "# Transform training and testing data\n",
        "X_train = preprocessor.fit_transform(X_train)\n",
        "X_test = preprocessor.transform(X_test)\n",
        "\n",
        "# Linear Regression from Scratch with Regularization (Ridge-like)\n",
        "class LinearRegressionFromScratch:\n",
        "    def __init__(self, regularization=1e-5):  # Small regularization term to handle singularity\n",
        "        self.weights = None\n",
        "        self.regularization = regularization\n",
        "\n",
        "    def fit(self, X, y):\n",
        "        # Add intercept\n",
        "        X = np.c_[np.ones(X.shape[0]), X]\n",
        "        # Compute weights using the regularized normal equation\n",
        "        identity = np.eye(X.shape[1])\n",
        "        identity[0, 0] = 0  # Do not regularize the intercept term\n",
        "        self.weights = np.linalg.inv(X.T @ X + self.regularization * identity) @ X.T @ y\n",
        "\n",
        "    def predict(self, X):\n",
        "        # Add intercept\n",
        "        X = np.c_[np.ones(X.shape[0]), X]\n",
        "        return X @ self.weights\n",
        "\n",
        "# Build Models\n",
        "model1 = LinearRegression()  # Scikit-learn Linear Regression\n",
        "model2 = Ridge()             # Ridge Regression\n",
        "model3 = Lasso()             # Lasso Regression\n",
        "model4 = LinearRegressionFromScratch()  # Linear Regression from scratch\n",
        "\n",
        "# Train and Evaluate Models\n",
        "models = {\n",
        "    \"Linear Regression (Scikit-learn)\": model1,\n",
        "    \"Ridge Regression\": model2,\n",
        "    \"Lasso Regression\": model3,\n",
        "    \"Linear Regression (Scratch)\": model4\n",
        "}\n",
        "results = {}\n",
        "\n",
        "for name, model in models.items():\n",
        "    if name == \"Linear Regression (Scratch)\":\n",
        "        model.fit(X_train.toarray(), y_train)  # Convert sparse matrix to dense\n",
        "        y_pred = model.predict(X_test.toarray())\n",
        "    else:\n",
        "        model.fit(X_train, y_train)\n",
        "        y_pred = model.predict(X_test)\n",
        "    mse = mean_squared_error(y_test, y_pred)\n",
        "    r2 = r2_score(y_test, y_pred)\n",
        "    results[name] = {'MSE': mse, 'R2 Score': r2}\n",
        "    print(f\"{name} - MSE: {mse}, R2 Score: {r2}\")\n",
        "\n",
        "# Select the best model\n",
        "best_model_name = max(results, key=lambda k: results[k]['R2 Score'])\n",
        "best_model = models[best_model_name]\n",
        "print(f\"\\nBest Model: {best_model_name}\")\n",
        "\n",
        "# Hyperparameter Optimization (for Ridge and Lasso only)\n",
        "if best_model_name in [\"Ridge Regression\", \"Lasso Regression\"]:\n",
        "    param_grid = {'alpha': [0.1, 1.0, 10.0, 100.0]}\n",
        "    grid_search = GridSearchCV(best_model, param_grid, cv=5, scoring='r2')\n",
        "    grid_search.fit(X_train, y_train)\n",
        "    best_params = grid_search.best_params_\n",
        "    print(f\"Best Hyperparameter: {best_params}\")\n",
        "    best_model.set_params(**best_params)\n",
        "    best_model.fit(X_train, y_train)\n",
        "\n",
        "# Feature Selection\n",
        "selector = SelectFromModel(best_model, threshold='mean', prefit=True)\n",
        "X_train_selected = selector.transform(X_train)\n",
        "X_test_selected = selector.transform(X_test)\n",
        "\n",
        "selected_features = selector.get_support(indices=True)\n",
        "print(f\"\\nSelected Features (Indices): {selected_features}\")\n",
        "\n",
        "# Rebuild Model with Best Hyperparameters and Selected Features\n",
        "final_model = type(best_model)(**(best_model.get_params()))\n",
        "final_model.fit(X_train_selected, y_train)\n",
        "y_final_pred = final_model.predict(X_test_selected)\n",
        "\n",
        "# Final Model Evaluation\n",
        "final_mse = mean_squared_error(y_test, y_final_pred)\n",
        "final_r2 = r2_score(y_test, y_final_pred)\n",
        "print(f\"\\nFinal Model - MSE: {final_mse}, R2 Score: {final_r2}\")\n",
        "\n"
      ]
    },
    {
      "cell_type": "code",
      "execution_count": null,
      "metadata": {
        "colab": {
          "base_uri": "https://localhost:8080/"
        },
        "id": "7aMl9SZNadYw",
        "outputId": "90183524-dc2d-44d1-9f35-b57b8f7b1150"
      },
      "outputs": [
        {
          "name": "stdout",
          "output_type": "stream",
          "text": [
            "Mounted at /content/drive\n"
          ]
        }
      ],
      "source": [
        "from google.colab import drive\n",
        "drive.mount('/content/drive')"
      ]
    }
  ],
  "metadata": {
    "colab": {
      "provenance": []
    },
    "kernelspec": {
      "display_name": "Python 3",
      "name": "python3"
    },
    "language_info": {
      "name": "python"
    }
  },
  "nbformat": 4,
  "nbformat_minor": 0
}